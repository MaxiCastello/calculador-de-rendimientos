{
  "nbformat": 4,
  "nbformat_minor": 0,
  "metadata": {
    "colab": {
      "provenance": [],
      "authorship_tag": "ABX9TyN7fto3e3AOqqRTmea0GDcG",
      "include_colab_link": true
    },
    "kernelspec": {
      "name": "python3",
      "display_name": "Python 3"
    },
    "language_info": {
      "name": "python"
    }
  },
  "cells": [
    {
      "cell_type": "markdown",
      "metadata": {
        "id": "view-in-github",
        "colab_type": "text"
      },
      "source": [
        "<a href=\"https://colab.research.google.com/github/MaxiCastello/calculador-de-rendimientos/blob/main/Calculadora_de_Rendimientos.ipynb\" target=\"_parent\"><img src=\"https://colab.research.google.com/assets/colab-badge.svg\" alt=\"Open In Colab\"/></a>"
      ]
    },
    {
      "cell_type": "code",
      "execution_count": 4,
      "metadata": {
        "colab": {
          "base_uri": "https://localhost:8080/"
        },
        "id": "TqnVidGzq3Gt",
        "outputId": "703b46e5-be99-4155-e5b2-8f020572857a"
      },
      "outputs": [
        {
          "output_type": "stream",
          "name": "stdout",
          "text": [
            "Ingrese el valor a invertir: 752341.28\n",
            "Ingrese la tasa de rendimiento anual (%): 32\n",
            "Con una inversión de $752341.28 y una tasa anual de 32.0%:\n",
            "Ganancia diaria: $659.59\n",
            "Ganancia mensual: $20062.43\n",
            "Ganancia anual: $240749.21\n"
          ]
        }
      ],
      "source": [
        "def calcular_rendimiento(inversion, tasa_anual):\n",
        "\n",
        "    tasa_decimal = tasa_anual / 100 # Convertir la TRA en decimal\n",
        "\n",
        "    #Calculo de las ganancias\n",
        "    ganancia_anual = inversion * tasa_decimal\n",
        "    ganancia_mensual = ganancia_anual / 12\n",
        "    ganancia_diaria = ganancia_anual / 365\n",
        "\n",
        "    return ganancia_diaria, ganancia_mensual, ganancia_anual\n",
        "\n",
        "# Datos\n",
        "inversion = float(input(\"Ingrese el valor a invertir: \"))\n",
        "tasa_anual = float(input(\"Ingrese la tasa de rendimiento anual (%): \"))\n",
        "\n",
        "# Resultados\n",
        "diaria, mensual, anual = calcular_rendimiento(inversion, tasa_anual)\n",
        "\n",
        "# Muestra de los los resultados\n",
        "print(f\"Con una inversión de ${inversion} y una tasa anual de {tasa_anual}%:\") # Para usar centavos tenes que usar el signo punto, no el signo coma.\n",
        "print(f\"Ganancia diaria: ${diaria:.2f}\")\n",
        "print(f\"Ganancia mensual: ${mensual:.2f}\")\n",
        "print(f\"Ganancia anual: ${anual:.2f}\")"
      ]
    }
  ]
}